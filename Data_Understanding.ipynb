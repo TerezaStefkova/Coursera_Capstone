{
 "metadata": {
  "language_info": {
   "codemirror_mode": {
    "name": "ipython",
    "version": 3
   },
   "file_extension": ".py",
   "mimetype": "text/x-python",
   "name": "python",
   "nbconvert_exporter": "python",
   "pygments_lexer": "ipython3",
   "version": "3.8.5-final"
  },
  "orig_nbformat": 2,
  "kernelspec": {
   "name": "python_defaultSpec_1598282340910",
   "display_name": "Python 3.8.5 32-bit"
  }
 },
 "nbformat": 4,
 "nbformat_minor": 2,
 "cells": [
  {
   "cell_type": "markdown",
   "metadata": {},
   "source": [
    "# Introduction to Car accident severity analysis and data understanding"
   ]
  },
  {
   "cell_type": "markdown",
   "metadata": {},
   "source": [
    "## Introduction\n",
    "\n",
    "This project aims at better understanding of car accidents with respect to their severity. We divide car accidents into two classes 'injury collision' and 'property damage collision'. Using data obtained from car accidents in Seattle we try to build a model that could predict severity of a car accident based on accident's details such as date and time, number of people involved, location, weather...\n",
    "\n",
    "Better understanding of causes that lead to severe car accidents could be utilized to adopt measures that could prevent severe car accidents. \n",
    "\n",
    "In this project we will mainly use classification algorithms to build a model that could classify car accidents according to severity.\n",
    "\n",
    "\n"
   ]
  },
  {
   "cell_type": "markdown",
   "metadata": {},
   "source": [
    "## Data Understanding\n",
    "\n",
    "We use data provided by Seattle Traffic Management Division (metadata describing our dataset are available at https://s3.us.cloud-object-storage.appdomain.cloud/cf-courses-data/CognitiveClass/DP0701EN/version-2/Metadata.pdf). Dataset contains 194673 entries with 38 attributes, however, not every attribute will be useful for our analysis.\n",
    "\n",
    "First, let us extract columns that could be potentially useful in our project."
   ]
  },
  {
   "cell_type": "code",
   "execution_count": 174,
   "metadata": {},
   "outputs": [],
   "source": [
    "import pandas as pd\n",
    "import numpy as np\n",
    "import folium\n",
    "import matplotlib as mtp\n",
    "import matplotlib.pyplot as plt\n",
    "%matplotlib inline\n",
    "import numpy as np\n",
    "from sklearn import preprocessing\n",
    "import re"
   ]
  },
  {
   "cell_type": "code",
   "execution_count": 175,
   "metadata": {},
   "outputs": [
    {
     "output_type": "execute_result",
     "data": {
      "text/plain": "(194673, 38)"
     },
     "metadata": {},
     "execution_count": 175
    }
   ],
   "source": [
    "df=pd.read_csv('Data-Collisions.csv')\n",
    "df.shape"
   ]
  },
  {
   "cell_type": "code",
   "execution_count": 176,
   "metadata": {},
   "outputs": [
    {
     "output_type": "execute_result",
     "data": {
      "text/plain": "Index(['SEVERITYCODE', 'X', 'Y', 'OBJECTID', 'INCKEY', 'COLDETKEY', 'REPORTNO',\n       'STATUS', 'ADDRTYPE', 'INTKEY', 'LOCATION', 'EXCEPTRSNCODE',\n       'EXCEPTRSNDESC', 'SEVERITYCODE.1', 'SEVERITYDESC', 'COLLISIONTYPE',\n       'PERSONCOUNT', 'PEDCOUNT', 'PEDCYLCOUNT', 'VEHCOUNT', 'INCDATE',\n       'INCDTTM', 'JUNCTIONTYPE', 'SDOT_COLCODE', 'SDOT_COLDESC',\n       'INATTENTIONIND', 'UNDERINFL', 'WEATHER', 'ROADCOND', 'LIGHTCOND',\n       'PEDROWNOTGRNT', 'SDOTCOLNUM', 'SPEEDING', 'ST_COLCODE', 'ST_COLDESC',\n       'SEGLANEKEY', 'CROSSWALKKEY', 'HITPARKEDCAR'],\n      dtype='object')"
     },
     "metadata": {},
     "execution_count": 176
    }
   ],
   "source": [
    "df.columns"
   ]
  },
  {
   "cell_type": "markdown",
   "metadata": {},
   "source": [
    "In the first step we drop redundant columns such as 'INCKEY', 'COLDETKEY', 'REPORTNO','STATUS', 'SEVERITYCODE.1', 'SEVERITYDESC', 'SDOT_COLDESC'. We also drop 'LOCATION' column, as it does not provide the accurate address of the accident."
   ]
  },
  {
   "cell_type": "code",
   "execution_count": 177,
   "metadata": {},
   "outputs": [
    {
     "output_type": "execute_result",
     "data": {
      "text/plain": "(194673, 23)"
     },
     "metadata": {},
     "execution_count": 177
    }
   ],
   "source": [
    "df.drop(columns=['INTKEY', 'COLDETKEY', 'REPORTNO','STATUS', 'SEVERITYCODE.1', 'SEVERITYDESC', 'SDOT_COLDESC','LOCATION','EXCEPTRSNCODE','EXCEPTRSNDESC','SEGLANEKEY','CROSSWALKKEY','SDOTCOLNUM','X','Y'],inplace=True)\n",
    "df.shape"
   ]
  },
  {
   "cell_type": "markdown",
   "metadata": {},
   "source": [
    "Now let us take a look at missing values in our data frame."
   ]
  },
  {
   "cell_type": "code",
   "execution_count": 178,
   "metadata": {
    "tags": []
   },
   "outputs": [
    {
     "output_type": "execute_result",
     "data": {
      "text/plain": "                    True\nSEVERITYCODE         0.0\nOBJECTID             0.0\nINCKEY               0.0\nADDRTYPE          1926.0\nCOLLISIONTYPE     4904.0\nPERSONCOUNT          0.0\nPEDCOUNT             0.0\nPEDCYLCOUNT          0.0\nVEHCOUNT             0.0\nINCDATE              0.0\nINCDTTM              0.0\nJUNCTIONTYPE      6329.0\nSDOT_COLCODE         0.0\nINATTENTIONIND  164868.0\nUNDERINFL         4884.0\nWEATHER           5081.0\nROADCOND          5012.0\nLIGHTCOND         5170.0\nPEDROWNOTGRNT   190006.0\nSPEEDING        185340.0\nST_COLCODE          18.0\nST_COLDESC        4904.0\nHITPARKEDCAR         0.0",
      "text/html": "<div>\n<style scoped>\n    .dataframe tbody tr th:only-of-type {\n        vertical-align: middle;\n    }\n\n    .dataframe tbody tr th {\n        vertical-align: top;\n    }\n\n    .dataframe thead th {\n        text-align: right;\n    }\n</style>\n<table border=\"1\" class=\"dataframe\">\n  <thead>\n    <tr style=\"text-align: right;\">\n      <th></th>\n      <th>True</th>\n    </tr>\n  </thead>\n  <tbody>\n    <tr>\n      <th>SEVERITYCODE</th>\n      <td>0.0</td>\n    </tr>\n    <tr>\n      <th>OBJECTID</th>\n      <td>0.0</td>\n    </tr>\n    <tr>\n      <th>INCKEY</th>\n      <td>0.0</td>\n    </tr>\n    <tr>\n      <th>ADDRTYPE</th>\n      <td>1926.0</td>\n    </tr>\n    <tr>\n      <th>COLLISIONTYPE</th>\n      <td>4904.0</td>\n    </tr>\n    <tr>\n      <th>PERSONCOUNT</th>\n      <td>0.0</td>\n    </tr>\n    <tr>\n      <th>PEDCOUNT</th>\n      <td>0.0</td>\n    </tr>\n    <tr>\n      <th>PEDCYLCOUNT</th>\n      <td>0.0</td>\n    </tr>\n    <tr>\n      <th>VEHCOUNT</th>\n      <td>0.0</td>\n    </tr>\n    <tr>\n      <th>INCDATE</th>\n      <td>0.0</td>\n    </tr>\n    <tr>\n      <th>INCDTTM</th>\n      <td>0.0</td>\n    </tr>\n    <tr>\n      <th>JUNCTIONTYPE</th>\n      <td>6329.0</td>\n    </tr>\n    <tr>\n      <th>SDOT_COLCODE</th>\n      <td>0.0</td>\n    </tr>\n    <tr>\n      <th>INATTENTIONIND</th>\n      <td>164868.0</td>\n    </tr>\n    <tr>\n      <th>UNDERINFL</th>\n      <td>4884.0</td>\n    </tr>\n    <tr>\n      <th>WEATHER</th>\n      <td>5081.0</td>\n    </tr>\n    <tr>\n      <th>ROADCOND</th>\n      <td>5012.0</td>\n    </tr>\n    <tr>\n      <th>LIGHTCOND</th>\n      <td>5170.0</td>\n    </tr>\n    <tr>\n      <th>PEDROWNOTGRNT</th>\n      <td>190006.0</td>\n    </tr>\n    <tr>\n      <th>SPEEDING</th>\n      <td>185340.0</td>\n    </tr>\n    <tr>\n      <th>ST_COLCODE</th>\n      <td>18.0</td>\n    </tr>\n    <tr>\n      <th>ST_COLDESC</th>\n      <td>4904.0</td>\n    </tr>\n    <tr>\n      <th>HITPARKEDCAR</th>\n      <td>0.0</td>\n    </tr>\n  </tbody>\n</table>\n</div>"
     },
     "metadata": {},
     "execution_count": 178
    }
   ],
   "source": [
    "columns=[]\n",
    "missing=[]\n",
    "missing_data = df.isnull()\n",
    "for column in missing_data.columns.values.tolist():\n",
    "    columns.append(column)\n",
    "    missing.append(missing_data[column].value_counts())\n",
    "    \n",
    "missing_values=pd.DataFrame(missing)    \n",
    "missing_values.replace(np.nan, 0, inplace=True)\n",
    "\n",
    "missing_values.drop([0],axis=1,inplace=True)\n",
    "\n",
    "#display number of missing values for each of the attributes\n",
    "missing_values\n"
   ]
  },
  {
   "cell_type": "markdown",
   "metadata": {},
   "source": [
    "We see that the dataset is well-defined in a sense that every accident has a severitycode and objectid assigned. Now we consider one attribute after the other to decide if it is a good candidate for the feature set. At the same time we deal with missing values in each column.\n",
    "\n",
    "1. ADDRTYPE\n",
    "\n",
    "Column ADDRTYPE takes three values 'Block', 'Intersection', 'Alley'. Most accidents happened at 'Block' (significantly more than at the other two places). As a result, we decided to replace missing values by 'Block'.\n",
    " "
   ]
  },
  {
   "cell_type": "code",
   "execution_count": 179,
   "metadata": {},
   "outputs": [
    {
     "output_type": "execute_result",
     "data": {
      "text/plain": "              ADDRTYPE\nBlock           126926\nIntersection     65070\nAlley              751",
      "text/html": "<div>\n<style scoped>\n    .dataframe tbody tr th:only-of-type {\n        vertical-align: middle;\n    }\n\n    .dataframe tbody tr th {\n        vertical-align: top;\n    }\n\n    .dataframe thead th {\n        text-align: right;\n    }\n</style>\n<table border=\"1\" class=\"dataframe\">\n  <thead>\n    <tr style=\"text-align: right;\">\n      <th></th>\n      <th>ADDRTYPE</th>\n    </tr>\n  </thead>\n  <tbody>\n    <tr>\n      <th>Block</th>\n      <td>126926</td>\n    </tr>\n    <tr>\n      <th>Intersection</th>\n      <td>65070</td>\n    </tr>\n    <tr>\n      <th>Alley</th>\n      <td>751</td>\n    </tr>\n  </tbody>\n</table>\n</div>"
     },
     "metadata": {},
     "execution_count": 179
    }
   ],
   "source": [
    "# number of values for ADDRTYPE\n",
    "df['ADDRTYPE'].value_counts().to_frame()"
   ]
  },
  {
   "cell_type": "code",
   "execution_count": 180,
   "metadata": {},
   "outputs": [
    {
     "output_type": "execute_result",
     "data": {
      "text/plain": "                           SEVERITYCODE\nADDRTYPE     SEVERITYCODE              \nAlley        1                 0.890812\n             2                 0.109188\nBlock        1                 0.764947\n             2                 0.235053\nIntersection 1                 0.572476\n             2                 0.427524",
      "text/html": "<div>\n<style scoped>\n    .dataframe tbody tr th:only-of-type {\n        vertical-align: middle;\n    }\n\n    .dataframe tbody tr th {\n        vertical-align: top;\n    }\n\n    .dataframe thead th {\n        text-align: right;\n    }\n</style>\n<table border=\"1\" class=\"dataframe\">\n  <thead>\n    <tr style=\"text-align: right;\">\n      <th></th>\n      <th></th>\n      <th>SEVERITYCODE</th>\n    </tr>\n    <tr>\n      <th>ADDRTYPE</th>\n      <th>SEVERITYCODE</th>\n      <th></th>\n    </tr>\n  </thead>\n  <tbody>\n    <tr>\n      <th rowspan=\"2\" valign=\"top\">Alley</th>\n      <th>1</th>\n      <td>0.890812</td>\n    </tr>\n    <tr>\n      <th>2</th>\n      <td>0.109188</td>\n    </tr>\n    <tr>\n      <th rowspan=\"2\" valign=\"top\">Block</th>\n      <th>1</th>\n      <td>0.764947</td>\n    </tr>\n    <tr>\n      <th>2</th>\n      <td>0.235053</td>\n    </tr>\n    <tr>\n      <th rowspan=\"2\" valign=\"top\">Intersection</th>\n      <th>1</th>\n      <td>0.572476</td>\n    </tr>\n    <tr>\n      <th>2</th>\n      <td>0.427524</td>\n    </tr>\n  </tbody>\n</table>\n</div>"
     },
     "metadata": {},
     "execution_count": 180
    }
   ],
   "source": [
    "df['ADDRTYPE'].replace(np.nan, 'Block', inplace=True)\n",
    "# \n",
    "df.groupby(['ADDRTYPE'])['SEVERITYCODE'].value_counts(normalize=True).to_frame()"
   ]
  },
  {
   "cell_type": "markdown",
   "metadata": {},
   "source": [
    "Clearly, most severe accidents happen at intersections.\n",
    "\n",
    "2. COLLISIONTYPE\n",
    "In the case of COLLISIONTYPE we do not observe any leading type unlike in the case of ADDRTYPE. For this reason, we replace missing values by 'Other'.\n",
    "\n"
   ]
  },
  {
   "cell_type": "code",
   "execution_count": 181,
   "metadata": {},
   "outputs": [
    {
     "output_type": "execute_result",
     "data": {
      "text/plain": "            COLLISIONTYPE\nParked Car          47987\nAngles              34674\nRear Ended          34090\nOther               23703\nSideswipe           18609\nLeft Turn           13703\nPedestrian           6608\nCycles               5415\nRight Turn           2956\nHead On              2024",
      "text/html": "<div>\n<style scoped>\n    .dataframe tbody tr th:only-of-type {\n        vertical-align: middle;\n    }\n\n    .dataframe tbody tr th {\n        vertical-align: top;\n    }\n\n    .dataframe thead th {\n        text-align: right;\n    }\n</style>\n<table border=\"1\" class=\"dataframe\">\n  <thead>\n    <tr style=\"text-align: right;\">\n      <th></th>\n      <th>COLLISIONTYPE</th>\n    </tr>\n  </thead>\n  <tbody>\n    <tr>\n      <th>Parked Car</th>\n      <td>47987</td>\n    </tr>\n    <tr>\n      <th>Angles</th>\n      <td>34674</td>\n    </tr>\n    <tr>\n      <th>Rear Ended</th>\n      <td>34090</td>\n    </tr>\n    <tr>\n      <th>Other</th>\n      <td>23703</td>\n    </tr>\n    <tr>\n      <th>Sideswipe</th>\n      <td>18609</td>\n    </tr>\n    <tr>\n      <th>Left Turn</th>\n      <td>13703</td>\n    </tr>\n    <tr>\n      <th>Pedestrian</th>\n      <td>6608</td>\n    </tr>\n    <tr>\n      <th>Cycles</th>\n      <td>5415</td>\n    </tr>\n    <tr>\n      <th>Right Turn</th>\n      <td>2956</td>\n    </tr>\n    <tr>\n      <th>Head On</th>\n      <td>2024</td>\n    </tr>\n  </tbody>\n</table>\n</div>"
     },
     "metadata": {},
     "execution_count": 181
    }
   ],
   "source": [
    "df['COLLISIONTYPE'].value_counts().to_frame()"
   ]
  },
  {
   "cell_type": "code",
   "execution_count": 182,
   "metadata": {},
   "outputs": [
    {
     "output_type": "execute_result",
     "data": {
      "text/plain": "                            SEVERITYCODE\nCOLLISIONTYPE SEVERITYCODE              \nAngles        1                 0.607083\n              2                 0.392917\nBlock         1                 0.787724\n              2                 0.212276\nCycles        2                 0.876085\n              1                 0.123915\nHead On       1                 0.569170\n              2                 0.430830\nLeft Turn     1                 0.605123\n              2                 0.394877\nOther         1                 0.742142\n              2                 0.257858\nParked Car    1                 0.944527\n              2                 0.055473\nPedestrian    2                 0.898305\n              1                 0.101695\nRear Ended    1                 0.569639\n              2                 0.430361\nRight Turn    1                 0.793978\n              2                 0.206022\nSideswipe     1                 0.865334\n              2                 0.134666",
      "text/html": "<div>\n<style scoped>\n    .dataframe tbody tr th:only-of-type {\n        vertical-align: middle;\n    }\n\n    .dataframe tbody tr th {\n        vertical-align: top;\n    }\n\n    .dataframe thead th {\n        text-align: right;\n    }\n</style>\n<table border=\"1\" class=\"dataframe\">\n  <thead>\n    <tr style=\"text-align: right;\">\n      <th></th>\n      <th></th>\n      <th>SEVERITYCODE</th>\n    </tr>\n    <tr>\n      <th>COLLISIONTYPE</th>\n      <th>SEVERITYCODE</th>\n      <th></th>\n    </tr>\n  </thead>\n  <tbody>\n    <tr>\n      <th rowspan=\"2\" valign=\"top\">Angles</th>\n      <th>1</th>\n      <td>0.607083</td>\n    </tr>\n    <tr>\n      <th>2</th>\n      <td>0.392917</td>\n    </tr>\n    <tr>\n      <th rowspan=\"2\" valign=\"top\">Block</th>\n      <th>1</th>\n      <td>0.787724</td>\n    </tr>\n    <tr>\n      <th>2</th>\n      <td>0.212276</td>\n    </tr>\n    <tr>\n      <th rowspan=\"2\" valign=\"top\">Cycles</th>\n      <th>2</th>\n      <td>0.876085</td>\n    </tr>\n    <tr>\n      <th>1</th>\n      <td>0.123915</td>\n    </tr>\n    <tr>\n      <th rowspan=\"2\" valign=\"top\">Head On</th>\n      <th>1</th>\n      <td>0.569170</td>\n    </tr>\n    <tr>\n      <th>2</th>\n      <td>0.430830</td>\n    </tr>\n    <tr>\n      <th rowspan=\"2\" valign=\"top\">Left Turn</th>\n      <th>1</th>\n      <td>0.605123</td>\n    </tr>\n    <tr>\n      <th>2</th>\n      <td>0.394877</td>\n    </tr>\n    <tr>\n      <th rowspan=\"2\" valign=\"top\">Other</th>\n      <th>1</th>\n      <td>0.742142</td>\n    </tr>\n    <tr>\n      <th>2</th>\n      <td>0.257858</td>\n    </tr>\n    <tr>\n      <th rowspan=\"2\" valign=\"top\">Parked Car</th>\n      <th>1</th>\n      <td>0.944527</td>\n    </tr>\n    <tr>\n      <th>2</th>\n      <td>0.055473</td>\n    </tr>\n    <tr>\n      <th rowspan=\"2\" valign=\"top\">Pedestrian</th>\n      <th>2</th>\n      <td>0.898305</td>\n    </tr>\n    <tr>\n      <th>1</th>\n      <td>0.101695</td>\n    </tr>\n    <tr>\n      <th rowspan=\"2\" valign=\"top\">Rear Ended</th>\n      <th>1</th>\n      <td>0.569639</td>\n    </tr>\n    <tr>\n      <th>2</th>\n      <td>0.430361</td>\n    </tr>\n    <tr>\n      <th rowspan=\"2\" valign=\"top\">Right Turn</th>\n      <th>1</th>\n      <td>0.793978</td>\n    </tr>\n    <tr>\n      <th>2</th>\n      <td>0.206022</td>\n    </tr>\n    <tr>\n      <th rowspan=\"2\" valign=\"top\">Sideswipe</th>\n      <th>1</th>\n      <td>0.865334</td>\n    </tr>\n    <tr>\n      <th>2</th>\n      <td>0.134666</td>\n    </tr>\n  </tbody>\n</table>\n</div>"
     },
     "metadata": {},
     "execution_count": 182
    }
   ],
   "source": [
    "df['COLLISIONTYPE'].replace(np.nan, 'Block', inplace=True)\n",
    "\n",
    "df.groupby(['COLLISIONTYPE'])['SEVERITYCODE'].value_counts(normalize=True).to_frame()"
   ]
  },
  {
   "cell_type": "markdown",
   "metadata": {},
   "source": [
    "We observe significant differences in the ratio between severe and not severe accidents among different types of collisions. This makes COLLISIONTYPE a good attribute for our analysis.\n",
    "\n",
    "3. PERSONCOUNT\n",
    "We decided to group PERSONCOUNT values to two groups - less than two people and two or more people involved, since these two categories show different properties with respect to severity. High number of people involved shows more severe cases than low number. In the analysis we are going to exclude column PERSONCOUNT and use columns PERSONCOUNT_BINNED instead."
   ]
  },
  {
   "cell_type": "code",
   "execution_count": 183,
   "metadata": {},
   "outputs": [
    {
     "output_type": "execute_result",
     "data": {
      "text/plain": "                                 SEVERITYCODE\nPERSONCOUNT_BINNED SEVERITYCODE              \nLow_num            1                 0.752733\n                   2                 0.247267\nHigh_num           1                 0.589936\n                   2                 0.410064",
      "text/html": "<div>\n<style scoped>\n    .dataframe tbody tr th:only-of-type {\n        vertical-align: middle;\n    }\n\n    .dataframe tbody tr th {\n        vertical-align: top;\n    }\n\n    .dataframe thead th {\n        text-align: right;\n    }\n</style>\n<table border=\"1\" class=\"dataframe\">\n  <thead>\n    <tr style=\"text-align: right;\">\n      <th></th>\n      <th></th>\n      <th>SEVERITYCODE</th>\n    </tr>\n    <tr>\n      <th>PERSONCOUNT_BINNED</th>\n      <th>SEVERITYCODE</th>\n      <th></th>\n    </tr>\n  </thead>\n  <tbody>\n    <tr>\n      <th rowspan=\"2\" valign=\"top\">Low_num</th>\n      <th>1</th>\n      <td>0.752733</td>\n    </tr>\n    <tr>\n      <th>2</th>\n      <td>0.247267</td>\n    </tr>\n    <tr>\n      <th rowspan=\"2\" valign=\"top\">High_num</th>\n      <th>1</th>\n      <td>0.589936</td>\n    </tr>\n    <tr>\n      <th>2</th>\n      <td>0.410064</td>\n    </tr>\n  </tbody>\n</table>\n</div>"
     },
     "metadata": {},
     "execution_count": 183
    }
   ],
   "source": [
    "#creating two categories for PERSONCOUNT - less than two people involved ('Low_num') and two or more people involved ('High_num')\n",
    "bins=np.array([0,2,max(df['PERSONCOUNT'])])\n",
    "group_names = ['Low_num','High_num']\n",
    "\n",
    "\n",
    "df['PERSONCOUNT_BINNED'] = pd.cut(df['PERSONCOUNT'], bins, labels=group_names, include_lowest=True )\n",
    "df.groupby(['PERSONCOUNT_BINNED'])['SEVERITYCODE'].value_counts(normalize=True).to_frame()"
   ]
  },
  {
   "cell_type": "markdown",
   "metadata": {},
   "source": [
    "4. PEDCOUNT\n",
    "We observe a signigicant difference between cases where no pedestrian was involved and where a pedestrian took a part. Therefore, we group data into two groups 'zero pedestrians' (takes value 0) and 'pedestrian involved' (takes value 1).\n",
    "\n",
    "5. PEDCYLCOUNT \n",
    "The same applies as for PEDCOUNT data.\n",
    "\n",
    "6. VEHCOUNT\n",
    "Similar to PERSONCOUNT"
   ]
  },
  {
   "cell_type": "code",
   "execution_count": 184,
   "metadata": {},
   "outputs": [
    {
     "output_type": "execute_result",
     "data": {
      "text/plain": "PEDCOUNT_BINNED  SEVERITYCODE\n0                1               0.723295\n                 2               0.276705\n1                2               0.899409\n                 1               0.100591\nName: SEVERITYCODE, dtype: float64"
     },
     "metadata": {},
     "execution_count": 184
    }
   ],
   "source": [
    "df['PEDCOUNT_BINNED'] = df['PEDCOUNT'].apply(lambda x: 1 if (x>0)  else 0)\n",
    "\n",
    "df.groupby(['PEDCOUNT_BINNED'])['SEVERITYCODE'].value_counts(normalize=True)"
   ]
  },
  {
   "cell_type": "code",
   "execution_count": 185,
   "metadata": {},
   "outputs": [
    {
     "output_type": "execute_result",
     "data": {
      "text/plain": "PEDCYLCOUNT_BINNED  SEVERITYCODE\n0                   1               0.717832\n                    2               0.282168\n1                   2               0.876185\n                    1               0.123815\nName: SEVERITYCODE, dtype: float64"
     },
     "metadata": {},
     "execution_count": 185
    }
   ],
   "source": [
    "df['PEDCYLCOUNT_BINNED'] = df['PEDCYLCOUNT'].apply(lambda x: 1 if (x>0)  else 0)\n",
    "\n",
    "df.groupby(['PEDCYLCOUNT_BINNED'])['SEVERITYCODE'].value_counts(normalize=True)"
   ]
  },
  {
   "cell_type": "code",
   "execution_count": 199,
   "metadata": {},
   "outputs": [
    {
     "output_type": "execute_result",
     "data": {
      "text/plain": "                              SEVERITYCODE\nVEHCOUNT_BINNED SEVERITYCODE              \nZero            1                 0.502741\n                2                 0.497259\nOne             1                 0.756526\n                2                 0.243474\nTwo             1                 0.579554\n                2                 0.420446\nMore            1                 0.548113\n                2                 0.451887",
      "text/html": "<div>\n<style scoped>\n    .dataframe tbody tr th:only-of-type {\n        vertical-align: middle;\n    }\n\n    .dataframe tbody tr th {\n        vertical-align: top;\n    }\n\n    .dataframe thead th {\n        text-align: right;\n    }\n</style>\n<table border=\"1\" class=\"dataframe\">\n  <thead>\n    <tr style=\"text-align: right;\">\n      <th></th>\n      <th></th>\n      <th>SEVERITYCODE</th>\n    </tr>\n    <tr>\n      <th>VEHCOUNT_BINNED</th>\n      <th>SEVERITYCODE</th>\n      <th></th>\n    </tr>\n  </thead>\n  <tbody>\n    <tr>\n      <th rowspan=\"2\" valign=\"top\">Zero</th>\n      <th>1</th>\n      <td>0.502741</td>\n    </tr>\n    <tr>\n      <th>2</th>\n      <td>0.497259</td>\n    </tr>\n    <tr>\n      <th rowspan=\"2\" valign=\"top\">One</th>\n      <th>1</th>\n      <td>0.756526</td>\n    </tr>\n    <tr>\n      <th>2</th>\n      <td>0.243474</td>\n    </tr>\n    <tr>\n      <th rowspan=\"2\" valign=\"top\">Two</th>\n      <th>1</th>\n      <td>0.579554</td>\n    </tr>\n    <tr>\n      <th>2</th>\n      <td>0.420446</td>\n    </tr>\n    <tr>\n      <th rowspan=\"2\" valign=\"top\">More</th>\n      <th>1</th>\n      <td>0.548113</td>\n    </tr>\n    <tr>\n      <th>2</th>\n      <td>0.451887</td>\n    </tr>\n  </tbody>\n</table>\n</div>"
     },
     "metadata": {},
     "execution_count": 199
    }
   ],
   "source": [
    "#creating two categories for VEHCOUNT \n",
    "bins=np.array([0,1,2,3,max(df['VEHCOUNT'])])\n",
    "group_names = ['Zero','One','Two','More']\n",
    "\n",
    "\n",
    "df['VEHCOUNT_BINNED'] = pd.cut(df['VEHCOUNT'], bins, labels=group_names, include_lowest=True )\n",
    "df.groupby(['VEHCOUNT_BINNED'])['SEVERITYCODE'].value_counts(normalize=True).to_frame()\n",
    "\n"
   ]
  },
  {
   "cell_type": "markdown",
   "metadata": {},
   "source": [
    "7. INCDATE\n",
    "Let us take a look at the date of the incident. Is there a signigicant difference between weekend and weekday accidents?\n"
   ]
  },
  {
   "cell_type": "code",
   "execution_count": 187,
   "metadata": {
    "tags": []
   },
   "outputs": [
    {
     "output_type": "stream",
     "name": "stdout",
     "text": "SEVERITYCODE\nWEEKEND SEVERITYCODE              \n0       1                 0.694865\n        2                 0.305135\n1       1                 0.709722\n        2                 0.290278\nSUMMER  SEVERITYCODE\n0       1               68570\n        2               28272\n1       1               67915\n        2               29916\nName: SEVERITYCODE, dtype: int64\n"
    }
   ],
   "source": [
    "df['INCDATE'] = pd.to_datetime(df['INCDATE'])\n",
    "df['INCDATE'].head()\n",
    "\n",
    "#show day of week\n",
    "df['DAYOFWEEK'] = df['INCDATE'].dt.dayofweek\n",
    "\n",
    "#decide if accident happend on weekend or not\n",
    "df['WEEKEND'] = df['DAYOFWEEK'].apply(lambda x: 1 if (x>3)  else 0)\n",
    "#weekend severity score\n",
    "print(df.groupby(['WEEKEND'])['SEVERITYCODE'].value_counts(normalize=True).to_frame())\n",
    "\n",
    "#determine month of the accident\n",
    "df['MONTH']=df['INCDATE'].dt.month\n",
    "\n",
    "#accident happened in summer/winter\n",
    "df['SUMMER'] = df['MONTH'].apply(lambda x: 1 if (x>3 and x<10)  else 0)\n",
    "#summer severity score\n",
    "print(df.groupby(['SUMMER'])['SEVERITYCODE'].value_counts())"
   ]
  },
  {
   "cell_type": "markdown",
   "metadata": {},
   "source": [
    "Unfortunately, INCDATE did not provide any useful information, as we do not see significant differences between weekday/weekend accident severity and summer/winter accident severity.\n",
    "\n",
    "8. JUNCTIONTYPE\n",
    "\n"
   ]
  },
  {
   "cell_type": "code",
   "execution_count": 188,
   "metadata": {},
   "outputs": [
    {
     "output_type": "execute_result",
     "data": {
      "text/plain": "JUNCTIONTYPE                                       SEVERITYCODE\nAt Intersection (but not related to intersection)  1               0.703051\n                                                   2               0.296949\nAt Intersection (intersection related)             1               0.567362\n                                                   2               0.432638\nDriveway Junction                                  1               0.696936\n                                                   2               0.303064\nMid-Block (but intersection related)               1               0.679816\n                                                   2               0.320184\nMid-Block (not related to intersection)            1               0.783920\n                                                   2               0.216080\nRamp Junction                                      1               0.674699\n                                                   2               0.325301\nUnknown                                            1               0.936573\n                                                   2               0.063427\nName: SEVERITYCODE, dtype: float64"
     },
     "metadata": {},
     "execution_count": 188
    }
   ],
   "source": [
    "df[\"JUNCTIONTYPE\"].replace(np.nan, 'Unknown', inplace=True)\n",
    "df.groupby(['JUNCTIONTYPE'])['SEVERITYCODE'].value_counts(normalize=True)\n",
    "\n"
   ]
  },
  {
   "cell_type": "code",
   "execution_count": 189,
   "metadata": {},
   "outputs": [
    {
     "output_type": "execute_result",
     "data": {
      "text/plain": "WEATHER                   SEVERITYCODE\nBlowing Sand/Dirt         1               0.732143\n                          2               0.267857\nClear                     1               0.677509\n                          2               0.322491\nFog/Smog/Smoke            1               0.671353\n                          2               0.328647\nOther                     1               0.860577\n                          2               0.139423\nOvercast                  1               0.684456\n                          2               0.315544\nPartly Cloudy             2               0.600000\n                          1               0.400000\nRaining                   1               0.662815\n                          2               0.337185\nSevere Crosswind          1               0.720000\n                          2               0.280000\nSleet/Hail/Freezing Rain  1               0.752212\n                          2               0.247788\nSnowing                   1               0.811466\n                          2               0.188534\nUnknown                   1               0.905810\n                          2               0.094190\nName: SEVERITYCODE, dtype: float64"
     },
     "metadata": {},
     "execution_count": 189
    }
   ],
   "source": [
    "df[\"WEATHER\"].replace(np.nan, 'Unknown', inplace=True)\n",
    "df.groupby(['WEATHER'])['SEVERITYCODE'].value_counts(normalize=True)\n"
   ]
  },
  {
   "cell_type": "code",
   "execution_count": 190,
   "metadata": {},
   "outputs": [
    {
     "output_type": "execute_result",
     "data": {
      "text/plain": "ROADCOND        SEVERITYCODE\nDry             1               0.678227\n                2               0.321773\nIce             1               0.774194\n                2               0.225806\nOil             1               0.625000\n                2               0.375000\nOther           1               0.674242\n                2               0.325758\nSand/Mud/Dirt   1               0.693333\n                2               0.306667\nSnow/Slush      1               0.833665\n                2               0.166335\nStanding Water  1               0.739130\n                2               0.260870\nUnknown         1               0.909955\n                2               0.090045\nWet             1               0.668134\n                2               0.331866\nName: SEVERITYCODE, dtype: float64"
     },
     "metadata": {},
     "execution_count": 190
    }
   ],
   "source": [
    "df[\"ROADCOND\"].replace(np.nan, 'Unknown', inplace=True)\n",
    "df.groupby(['ROADCOND'])['SEVERITYCODE'].value_counts(normalize=True)\n"
   ]
  },
  {
   "cell_type": "code",
   "execution_count": 191,
   "metadata": {},
   "outputs": [
    {
     "output_type": "execute_result",
     "data": {
      "text/plain": "LIGHTCOND                 SEVERITYCODE\nDark - No Street Lights   1               0.782694\n                          2               0.217306\nDark - Street Lights Off  1               0.736447\n                          2               0.263553\nDark - Street Lights On   1               0.701589\n                          2               0.298411\nDark - Unknown Lighting   1               0.636364\n                          2               0.363636\nDawn                      1               0.670663\n                          2               0.329337\nDaylight                  1               0.668116\n                          2               0.331884\nDusk                      1               0.670620\n                          2               0.329380\nOther                     1               0.778723\n                          2               0.221277\nUnknown                   1               0.909081\n                          2               0.090919\nName: SEVERITYCODE, dtype: float64"
     },
     "metadata": {},
     "execution_count": 191
    }
   ],
   "source": [
    "df[\"LIGHTCOND\"].replace(np.nan, 'Unknown', inplace=True)\n",
    "df.groupby(['LIGHTCOND'])['SEVERITYCODE'].value_counts(normalize=True)\n"
   ]
  },
  {
   "cell_type": "code",
   "execution_count": 192,
   "metadata": {},
   "outputs": [],
   "source": [
    "df.groupby(['HITPARKEDCAR'])['SEVERITYCODE'].value_counts(normalize=True)\n",
    "df['HITPARKEDCAR'].replace(to_replace=['Y','N'], value=[0,1],inplace=True)"
   ]
  },
  {
   "cell_type": "markdown",
   "metadata": {},
   "source": [
    "## Feature selection and preparation\n",
    "\n",
    "Now that we have decided which attributes might be of use, we have to make a new data frame in a format suitable for classification algoritms. First, we have to select desired columns and then we need to replace columns with object type by dummy columns."
   ]
  },
  {
   "cell_type": "code",
   "execution_count": 193,
   "metadata": {},
   "outputs": [],
   "source": [
    "index=['HITPARKEDCAR']\n",
    "Feature=df[index]"
   ]
  },
  {
   "cell_type": "code",
   "execution_count": 200,
   "metadata": {},
   "outputs": [
    {
     "output_type": "execute_result",
     "data": {
      "text/plain": "   HITPARKEDCAR  Alley  Block  Intersection  Angles  Block  Cycles  Head On  \\\n0             1      0      0             1       1      0       0        0   \n1             1      0      1             0       0      0       0        0   \n2             1      0      1             0       0      0       0        0   \n3             1      0      1             0       0      0       0        0   \n4             1      0      0             1       1      0       0        0   \n\n   Left Turn  Other  ...  Dusk  Other  Unknown  \\\n0          0      0  ...     0      0        0   \n1          0      0  ...     0      0        0   \n2          0      0  ...     0      0        0   \n3          0      1  ...     0      0        0   \n4          0      0  ...     0      0        0   \n\n   At Intersection (but not related to intersection)  \\\n0                                                  0   \n1                                                  0   \n2                                                  0   \n3                                                  0   \n4                                                  0   \n\n   At Intersection (intersection related)  Driveway Junction  \\\n0                                       1                  0   \n1                                       0                  0   \n2                                       0                  0   \n3                                       0                  0   \n4                                       1                  0   \n\n   Mid-Block (but intersection related)  \\\n0                                     0   \n1                                     0   \n2                                     0   \n3                                     0   \n4                                     0   \n\n   Mid-Block (not related to intersection)  Ramp Junction  Unknown  \n0                                        0              0        0  \n1                                        1              0        0  \n2                                        1              0        0  \n3                                        1              0        0  \n4                                        0              0        0  \n\n[5 rows x 113 columns]",
      "text/html": "<div>\n<style scoped>\n    .dataframe tbody tr th:only-of-type {\n        vertical-align: middle;\n    }\n\n    .dataframe tbody tr th {\n        vertical-align: top;\n    }\n\n    .dataframe thead th {\n        text-align: right;\n    }\n</style>\n<table border=\"1\" class=\"dataframe\">\n  <thead>\n    <tr style=\"text-align: right;\">\n      <th></th>\n      <th>HITPARKEDCAR</th>\n      <th>Alley</th>\n      <th>Block</th>\n      <th>Intersection</th>\n      <th>Angles</th>\n      <th>Block</th>\n      <th>Cycles</th>\n      <th>Head On</th>\n      <th>Left Turn</th>\n      <th>Other</th>\n      <th>...</th>\n      <th>Dusk</th>\n      <th>Other</th>\n      <th>Unknown</th>\n      <th>At Intersection (but not related to intersection)</th>\n      <th>At Intersection (intersection related)</th>\n      <th>Driveway Junction</th>\n      <th>Mid-Block (but intersection related)</th>\n      <th>Mid-Block (not related to intersection)</th>\n      <th>Ramp Junction</th>\n      <th>Unknown</th>\n    </tr>\n  </thead>\n  <tbody>\n    <tr>\n      <th>0</th>\n      <td>1</td>\n      <td>0</td>\n      <td>0</td>\n      <td>1</td>\n      <td>1</td>\n      <td>0</td>\n      <td>0</td>\n      <td>0</td>\n      <td>0</td>\n      <td>0</td>\n      <td>...</td>\n      <td>0</td>\n      <td>0</td>\n      <td>0</td>\n      <td>0</td>\n      <td>1</td>\n      <td>0</td>\n      <td>0</td>\n      <td>0</td>\n      <td>0</td>\n      <td>0</td>\n    </tr>\n    <tr>\n      <th>1</th>\n      <td>1</td>\n      <td>0</td>\n      <td>1</td>\n      <td>0</td>\n      <td>0</td>\n      <td>0</td>\n      <td>0</td>\n      <td>0</td>\n      <td>0</td>\n      <td>0</td>\n      <td>...</td>\n      <td>0</td>\n      <td>0</td>\n      <td>0</td>\n      <td>0</td>\n      <td>0</td>\n      <td>0</td>\n      <td>0</td>\n      <td>1</td>\n      <td>0</td>\n      <td>0</td>\n    </tr>\n    <tr>\n      <th>2</th>\n      <td>1</td>\n      <td>0</td>\n      <td>1</td>\n      <td>0</td>\n      <td>0</td>\n      <td>0</td>\n      <td>0</td>\n      <td>0</td>\n      <td>0</td>\n      <td>0</td>\n      <td>...</td>\n      <td>0</td>\n      <td>0</td>\n      <td>0</td>\n      <td>0</td>\n      <td>0</td>\n      <td>0</td>\n      <td>0</td>\n      <td>1</td>\n      <td>0</td>\n      <td>0</td>\n    </tr>\n    <tr>\n      <th>3</th>\n      <td>1</td>\n      <td>0</td>\n      <td>1</td>\n      <td>0</td>\n      <td>0</td>\n      <td>0</td>\n      <td>0</td>\n      <td>0</td>\n      <td>0</td>\n      <td>1</td>\n      <td>...</td>\n      <td>0</td>\n      <td>0</td>\n      <td>0</td>\n      <td>0</td>\n      <td>0</td>\n      <td>0</td>\n      <td>0</td>\n      <td>1</td>\n      <td>0</td>\n      <td>0</td>\n    </tr>\n    <tr>\n      <th>4</th>\n      <td>1</td>\n      <td>0</td>\n      <td>0</td>\n      <td>1</td>\n      <td>1</td>\n      <td>0</td>\n      <td>0</td>\n      <td>0</td>\n      <td>0</td>\n      <td>0</td>\n      <td>...</td>\n      <td>0</td>\n      <td>0</td>\n      <td>0</td>\n      <td>0</td>\n      <td>1</td>\n      <td>0</td>\n      <td>0</td>\n      <td>0</td>\n      <td>0</td>\n      <td>0</td>\n    </tr>\n  </tbody>\n</table>\n<p>5 rows × 113 columns</p>\n</div>"
     },
     "metadata": {},
     "execution_count": 200
    }
   ],
   "source": [
    "Feature = pd.concat([Feature,pd.get_dummies(df['ADDRTYPE'])], axis=1)\n",
    "Feature=pd.concat([Feature,pd.get_dummies(df['COLLISIONTYPE'])],axis=1)\n",
    "Feature=pd.concat([Feature,pd.get_dummies(df['PERSONCOUNT_BINNED'])],axis=1)\n",
    "Feature=pd.concat([Feature,pd.get_dummies(df['PEDCOUNT_BINNED'])],axis=1)\n",
    "Feature=pd.concat([Feature,pd.get_dummies(df['VEHCOUNT_BINNED'])],axis=1)\n",
    "Feature=pd.concat([Feature,pd.get_dummies(df['WEATHER'])],axis=1)\n",
    "Feature=pd.concat([Feature,pd.get_dummies(df['ROADCOND'])],axis=1)\n",
    "Feature=pd.concat([Feature,pd.get_dummies(df['LIGHTCOND'])],axis=1)\n",
    "Feature=pd.concat([Feature,pd.get_dummies(df['JUNCTIONTYPE'])],axis=1)\n",
    "\n",
    "\n",
    "Feature.head()"
   ]
  },
  {
   "cell_type": "markdown",
   "metadata": {},
   "source": [
    "## Data preparation summary\n",
    "\n",
    "We selected 10 significant features of the data for analysis. We replaced missing values meaningfully and transformed the data in a format readable by classification algorithms."
   ]
  }
 ]
}